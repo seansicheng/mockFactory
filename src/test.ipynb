{
 "cells": [
  {
   "cell_type": "code",
   "execution_count": 1,
   "metadata": {},
   "outputs": [],
   "source": [
    "import numpy as np\n",
    "from mockFactory import *"
   ]
  },
  {
   "cell_type": "code",
   "execution_count": 2,
   "metadata": {},
   "outputs": [],
   "source": [
    "import matplotlib.pyplot as plt\n",
    "%matplotlib inline"
   ]
  },
  {
   "cell_type": "code",
   "execution_count": 3,
   "metadata": {},
   "outputs": [
    {
     "name": "stdout",
     "output_type": "stream",
     "text": [
      "1\n"
     ]
    },
    {
     "data": {
      "text/plain": [
       "[0.02101103170376693, 0.0034664586922000537, 0.006144178955279852]"
      ]
     },
     "execution_count": 3,
     "metadata": {},
     "output_type": "execute_result"
    }
   ],
   "source": [
    "NFWPosition(10**10)"
   ]
  },
  {
   "cell_type": "code",
   "execution_count": 5,
   "metadata": {},
   "outputs": [
    {
     "data": {
      "text/plain": [
       "7"
      ]
     },
     "execution_count": 5,
     "metadata": {},
     "output_type": "execute_result"
    }
   ],
   "source": [
    "haloConcentration(2*10**11)"
   ]
  },
  {
   "cell_type": "code",
   "execution_count": 3,
   "metadata": {},
   "outputs": [],
   "source": [
    "from colossus.halo import concentration"
   ]
  },
  {
   "cell_type": "code",
   "execution_count": 8,
   "metadata": {},
   "outputs": [
    {
     "data": {
      "text/plain": [
       "(6.797242929759987, True)"
      ]
     },
     "execution_count": 8,
     "metadata": {},
     "output_type": "execute_result"
    }
   ],
   "source": [
    "concentration.modelBullock01(10**11, 0.84)"
   ]
  },
  {
   "cell_type": "code",
   "execution_count": 24,
   "metadata": {},
   "outputs": [
    {
     "name": "stdout",
     "output_type": "stream",
     "text": [
      "CPU times: user 5.36 s, sys: 68.8 ms, total: 5.43 s\n",
      "Wall time: 5.41 s\n"
     ]
    },
    {
     "data": {
      "text/plain": [
       "array([9.27684249, 9.27264271, 9.26844363, ..., 2.97807972, 2.97676763,\n",
       "       2.97545928])"
      ]
     },
     "execution_count": 24,
     "metadata": {},
     "output_type": "execute_result"
    }
   ],
   "source": [
    "%%time\n",
    "concentration.concentration(np.logspace(10, 15, 2000), \"vir\", 0.84, model=\"bullock01\")"
   ]
  },
  {
   "cell_type": "code",
   "execution_count": 31,
   "metadata": {},
   "outputs": [],
   "source": [
    "from scipy.interpolate import interp1d\n",
    "f = interp1d(np.linspace(9,15,200), \n",
    "             concentration.concentration(10**np.linspace(9, 15.1, 200), \"vir\", 0.84, model=\"bullock01\"))"
   ]
  },
  {
   "cell_type": "code",
   "execution_count": 32,
   "metadata": {},
   "outputs": [
    {
     "data": {
      "text/plain": [
       "[<matplotlib.lines.Line2D at 0x18210cb7f0>]"
      ]
     },
     "execution_count": 32,
     "metadata": {},
     "output_type": "execute_result"
    },
    {
     "data": {
      "image/png": "[encoded data removed]",
      "text/plain": [
       "<Figure size 432x288 with 1 Axes>"
      ]
     },
     "metadata": {
      "needs_background": "light"
     },
     "output_type": "display_data"
    }
   ],
   "source": [
    "plt.plot(concentration.concentration(np.logspace(9, 15.1, 200), \"vir\", 0.84, model=\"bullock01\"))"
   ]
  },
  {
   "cell_type": "code",
   "execution_count": 23,
   "metadata": {},
   "outputs": [
    {
     "data": {
      "text/plain": [
       "6.162291501962872"
      ]
     },
     "execution_count": 23,
     "metadata": {},
     "output_type": "execute_result"
    }
   ],
   "source": [
    "cvir"
   ]
  },
  {
   "cell_type": "code",
   "execution_count": 22,
   "metadata": {},
   "outputs": [
    {
     "data": {
      "text/plain": [
       "0.24107934936157766"
      ]
     },
     "execution_count": 22,
     "metadata": {},
     "output_type": "execute_result"
    }
   ],
   "source": [
    "rvir"
   ]
  },
  {
   "cell_type": "code",
   "execution_count": 24,
   "metadata": {},
   "outputs": [
    {
     "data": {
      "text/plain": [
       "0.03912170485359006"
      ]
     },
     "execution_count": 24,
     "metadata": {},
     "output_type": "execute_result"
    }
   ],
   "source": [
    "rs"
   ]
  },
  {
   "cell_type": "code",
   "execution_count": 25,
   "metadata": {},
   "outputs": [
    {
     "data": {
      "text/plain": [
       "0.004808232031372421"
      ]
     },
     "execution_count": 25,
     "metadata": {},
     "output_type": "execute_result"
    }
   ],
   "source": [
    "max_p"
   ]
  },
  {
   "cell_type": "code",
   "execution_count": 27,
   "metadata": {},
   "outputs": [
    {
     "data": {
      "text/plain": [
       "0.5826440364007678"
      ]
     },
     "execution_count": 27,
     "metadata": {},
     "output_type": "execute_result"
    }
   ],
   "source": [
    "pr"
   ]
  },
  {
   "cell_type": "code",
   "execution_count": 16,
   "metadata": {
    "scrolled": true
   },
   "outputs": [
    {
     "name": "stdout",
     "output_type": "stream",
     "text": [
      "CPU times: user 23.9 s, sys: 210 ms, total: 24.1 s\n",
      "Wall time: 24 s\n"
     ]
    }
   ],
   "source": [
    "%%time\n",
    "r_s = []\n",
    "for _ in range(10000):\n",
    "    r = NFWPosition(10.0**12)\n",
    "    r_s.append(np.sqrt(r[0]**2 + r[1]**2 + r[2]**2))"
   ]
  },
  {
   "cell_type": "code",
   "execution_count": 10,
   "metadata": {},
   "outputs": [],
   "source": [
    "import bisect\n",
    "def pdf(x):\n",
    "    return np.log(x+1) - x/(x+1)\n",
    "\n",
    "def dx(x):\n",
    "    return x / (x+1)**2\n",
    "\n",
    "def newton(x0, y):\n",
    "    e = 10**-6\n",
    "    x = 0\n",
    "    it = 0\n",
    "    while abs(x - x0) > e:\n",
    "        it += 1\n",
    "        x = x0\n",
    "        x0 = x - (pdf(x) - y) / dx(x)\n",
    "    return x0\n",
    "\n",
    "interval = 10**-2\n",
    "table = pdf(np.arange(0, 10, interval))\n",
    "\n",
    "def get_x0(y):\n",
    "    idx = bisect.bisect_left(table, y)\n",
    "    return idx * interval\n",
    "\n",
    "m = 10.0**12\n",
    "cvir = haloConcentration(m)\n",
    "rvir = pow(3*m / (4*DELTA_HALO*np.pi*RHO_CRIT*OMEGA_M), 1.0/3.0)\n",
    "rs = rvir/cvir\n",
    "\n",
    "def myNFWposition(m):\n",
    "    y = np.random.rand() * pdf(cvir)\n",
    "    return rs*newton(get_x0(y), y)"
   ]
  },
  {
   "cell_type": "code",
   "execution_count": 12,
   "metadata": {},
   "outputs": [
    {
     "name": "stdout",
     "output_type": "stream",
     "text": [
      "CPU times: user 1.35 s, sys: 98.6 ms, total: 1.45 s\n",
      "Wall time: 1.37 s\n"
     ]
    }
   ],
   "source": [
    "%%time\n",
    "my_r_s = [myNFWposition(10.0**12) for _ in range(100000)]"
   ]
  },
  {
   "cell_type": "code",
   "execution_count": 17,
   "metadata": {},
   "outputs": [
    {
     "name": "stderr",
     "output_type": "stream",
     "text": [
      "/anaconda3/lib/python3.6/site-packages/ipykernel_launcher.py:11: RuntimeWarning: invalid value encountered in multiply\n",
      "  # This is added back by InteractiveShellApp.init_path()\n"
     ]
    },
    {
     "data": {
      "text/plain": [
       "'\\nwhile True:\\n    r = np.random.rand() * rvir\\n    pr = NFWDensity(r,rs,1.0)*r*r*4.0*np.pi / max_p\\n\\n    if np.random.rand() <= pr:\\n        costheta = 2.0*np.random.rand() - 1\\n        sintheta = np.sqrt(1-costheta**2)\\n        phi = 2*np.pi*np.random.rand()\\n\\n[r*sintheta*np.cos(phi), r*sintheta*np.sin(phi), r*costheta]\\n'"
      ]
     },
     "execution_count": 17,
     "metadata": {},
     "output_type": "execute_result"
    },
    {
     "data": {
      "image/png": "[encoded data removed]",
      "text/plain": [
       "<Figure size 432x288 with 1 Axes>"
      ]
     },
     "metadata": {
      "needs_background": "light"
     },
     "output_type": "display_data"
    }
   ],
   "source": [
    "m = 10.0**12\n",
    "cvir = haloConcentration(m)\n",
    "rvir = pow(3*m / (4*DELTA_HALO*np.pi*RHO_CRIT*OMEGA_M), 1.0/3.0)\n",
    "rs = rvir/cvir\n",
    "max_p = NFWDensity(rs,rs,1.0)*rs*rs*4.0*np.pi\n",
    "\n",
    "#plt.yscale(\"log\")\n",
    "#plt.xscale(\"log\")\n",
    "r = np.logspace(np.log10(0.0001), np.log10(100*rvir), 100)\n",
    "r = np.linspace(0, rvir, 100)\n",
    "plt.plot(r, r**2*NFWDensity(r, rs, 1.0), 'o-')\n",
    "ymin, ymax = plt.ylim()\n",
    "plt.vlines(rs, ymin*1.2, ymax*0.8, label=\"Rs\")\n",
    "plt.vlines(rvir, ymin*1.2, ymax*0.8, label=\"Rvir\")\n",
    "#locs += [rs, rvir]\n",
    "#labels += [\"Rs\", \"Rvir\"]\n",
    "histo, bins = np.histogram(r_s, bins=100)\n",
    "plt.plot((bins[:-1]+bins[1:])/2, histo/350000)\n",
    "\n",
    "histo, bins = np.histogram(my_r_s, bins=100)\n",
    "plt.plot((bins[:-1]+bins[1:])/2, histo/3500000)\n",
    "\n",
    "'''\n",
    "while True:\n",
    "    r = np.random.rand() * rvir\n",
    "    pr = NFWDensity(r,rs,1.0)*r*r*4.0*np.pi / max_p\n",
    "\n",
    "    if np.random.rand() <= pr:\n",
    "        costheta = 2.0*np.random.rand() - 1\n",
    "        sintheta = np.sqrt(1-costheta**2)\n",
    "        phi = 2*np.pi*np.random.rand()\n",
    "\n",
    "[r*sintheta*np.cos(phi), r*sintheta*np.sin(phi), r*costheta]\n",
    "'''"
   ]
  },
  {
   "cell_type": "code",
   "execution_count": null,
   "metadata": {},
   "outputs": [],
   "source": []
  }
 ],
 "metadata": {
  "kernelspec": {
   "display_name": "Python 3",
   "language": "python",
   "name": "python3"
  },
  "language_info": {
   "codemirror_mode": {
    "name": "ipython",
    "version": 3
   },
   "file_extension": ".py",
   "mimetype": "text/x-python",
   "name": "python",
   "nbconvert_exporter": "python",
   "pygments_lexer": "ipython3",
   "version": "3.6.4"
  }
 },
 "nbformat": 4,
 "nbformat_minor": 2
}
