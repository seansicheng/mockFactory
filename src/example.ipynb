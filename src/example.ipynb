{
 "cells": [
  {
   "cell_type": "markdown",
   "metadata": {},
   "source": [
    "# mockFactory"
   ]
  },
  {
   "cell_type": "code",
   "execution_count": 1,
   "metadata": {},
   "outputs": [],
   "source": [
    "from mockFactory import MockFactory"
   ]
  },
  {
   "cell_type": "code",
   "execution_count": 2,
   "metadata": {},
   "outputs": [
    {
     "name": "stdout",
     "output_type": "stream",
     "text": [
      "[MockFactory] Reading halo file ../data/halo_test.dat ...\n",
      "[MockFactory] Done reading halo file, time cost 1.59s ...\n",
      "MAX HALOMASS 14.652430079305446\n",
      "MAX HALOMASS 9.478681907362235\n",
      "[MockFactory] Adjusting position ...\n",
      "[MockFactory] Done adjusting position ...\n",
      "[MockFactory] Computing halo concentration ...\n",
      "[MockFactory] Read 1213430 halos ...\n",
      "[MockFactory] memory used 92.5774 Mb ...\n"
     ]
    }
   ],
   "source": [
    "halofile = \"../data/halo_test.dat\"\n",
    "\n",
    "\n",
    "hod_params = {'f_max': 0.0919869695747, 'M_min': 6.8*10**12, 'M_cut': 1.45690882049e+12, \n",
    "               'sigma_logM':0.640647507034, 'alpha':0.899309153294, \n",
    "               'M_1': 1.99576840607e+14}\n",
    "\n",
    "\n",
    "mockfactory = MockFactory(halofile, boxsize=1000, cvir_fac=1, vbias=0.8, hod_parameters=hod_params)"
   ]
  },
  {
   "cell_type": "code",
   "execution_count": 3,
   "metadata": {},
   "outputs": [
    {
     "name": "stdout",
     "output_type": "stream",
     "text": [
      "[MockFactory] Begin populateSimulation ...\n",
      "[MockFactory] Begin _populateCentral ...\n",
      "number of central is 5105\n",
      "[MockFactory] Done _populateCentral, time cost 0.10s ...\n",
      "[MockFactory] Begin _populateSatellite ...\n",
      "assign position and velocity...\n",
      "number of satellite is 718\n",
      "[MockFactory] Done _populateSatellite, time cost 0.14s ...\n",
      "Writing to file ../data/mock_test.dat ...\n",
      "[MockFactory] Done populateSimulation, time cost 0.27s ...\n"
     ]
    }
   ],
   "source": [
    "mockfile = \"../data/mock_test.dat\"\n",
    "mock = mockfactory.populateSimulation(mock_flnm = mockfile, verbose=True)"
   ]
  },
  {
   "cell_type": "code",
   "execution_count": 4,
   "metadata": {},
   "outputs": [
    {
     "data": {
      "text/plain": [
       "(5823, 8)"
      ]
     },
     "execution_count": 4,
     "metadata": {},
     "output_type": "execute_result"
    }
   ],
   "source": [
    "mock.shape"
   ]
  },
  {
   "cell_type": "markdown",
   "metadata": {},
   "source": [
    "### Change params"
   ]
  },
  {
   "cell_type": "code",
   "execution_count": 20,
   "metadata": {},
   "outputs": [
    {
     "name": "stdout",
     "output_type": "stream",
     "text": [
      "Updating params ...\n"
     ]
    }
   ],
   "source": [
    "mockfactory.update_params({\"vbias_c\": 1, \"cvir_fac\": 1, \"sigma_logM\":1.0})"
   ]
  },
  {
   "cell_type": "markdown",
   "metadata": {},
   "source": [
    "### Get HOD parameters"
   ]
  },
  {
   "cell_type": "code",
   "execution_count": 21,
   "metadata": {},
   "outputs": [
    {
     "data": {
      "text/plain": [
       "{'halo_histo': None,\n",
       " 'log_halo_mass_bins': None,\n",
       " 'boxsize': None,\n",
       " 'galaxy_density': None,\n",
       " 'alpha': 0.899309153294,\n",
       " 'M_cut': 1456908820490.0,\n",
       " 'M_1': 199576840607000.0,\n",
       " 'sigma_b': 0.2,\n",
       " 'M_b': 1500000000000.0,\n",
       " 'f_b': 0.1,\n",
       " 'sigma_logM': 1.0,\n",
       " 'M_min': 6800000000000.0,\n",
       " 'f_max': 0.0919869695747,\n",
       " 'cen': 1,\n",
       " 'self': <hod.HOD at 0x1820362630>}"
      ]
     },
     "execution_count": 21,
     "metadata": {},
     "output_type": "execute_result"
    }
   ],
   "source": [
    "mockfactory.hod._params"
   ]
  },
  {
   "cell_type": "markdown",
   "metadata": {},
   "source": [
    "# Clustering"
   ]
  },
  {
   "cell_type": "code",
   "execution_count": 6,
   "metadata": {},
   "outputs": [],
   "source": [
    "from clustering import Clustering\n",
    "import numpy as np"
   ]
  },
  {
   "cell_type": "code",
   "execution_count": 7,
   "metadata": {},
   "outputs": [],
   "source": [
    "rbins = np.logspace(np.log10(0.1), np.log10(70), 21)\n",
    "cluster = Clustering(rbins)"
   ]
  },
  {
   "cell_type": "code",
   "execution_count": 12,
   "metadata": {},
   "outputs": [],
   "source": [
    "r = (rbins[1:]**3 - rbins[:-1]**3) / (rbins[1:]**2 - rbins[:-1]**2) * 2/3"
   ]
  },
  {
   "cell_type": "code",
   "execution_count": 10,
   "metadata": {},
   "outputs": [
    {
     "name": "stderr",
     "output_type": "stream",
     "text": [
      "In gridlink_double> Running with [nmesh_x, nmesh_y, nmesh_z]  = 28,28,12.  Time taken =   0.003 sec\n",
      "0%.........10%.........20%.........30%.........40%.........50%.........60%.........70%.........80%.........90%.........100% done. Time taken =  0.029 secs\n",
      "Running with points in [xmin,xmax] = 0.031210,999.878420 with periodic wrapping = 1000.000000\n",
      "Running with points in [ymin,ymax] = 0.085170,999.935420 with periodic wrapping = 1000.000000\n",
      "Running with points in [zmin,zmax] = 0.000010,999.980000 with periodic wrapping = 1000.000000\n",
      "In gridlink_double> Running with [nmesh_x, nmesh_y, nmesh_z]  = 28,28,14.  Time taken =   0.003 sec\n",
      "0%.........10%.........20%.........30%.........40%.........50%.........60%.........70%.........80%.........90%.........100% done. Time taken =  0.258 secs\n"
     ]
    }
   ],
   "source": [
    "xi0, xi2, wp = cluster.xi_wp_cubic_mock(mock[:,1:], size=1000, verbose=True)"
   ]
  },
  {
   "cell_type": "code",
   "execution_count": null,
   "metadata": {},
   "outputs": [],
   "source": []
  }
 ],
 "metadata": {
  "kernelspec": {
   "display_name": "Python 3",
   "language": "python",
   "name": "python3"
  },
  "language_info": {
   "codemirror_mode": {
    "name": "ipython",
    "version": 3
   },
   "file_extension": ".py",
   "mimetype": "text/x-python",
   "name": "python",
   "nbconvert_exporter": "python",
   "pygments_lexer": "ipython3",
   "version": "3.6.4"
  }
 },
 "nbformat": 4,
 "nbformat_minor": 2
}
